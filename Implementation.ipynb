{
 "cells": [
  {
   "cell_type": "code",
   "execution_count": 1,
   "metadata": {},
   "outputs": [],
   "source": [
    "#Importing data handling libraries\n",
    "import pandas as pd\n",
    "import numpy as np"
   ]
  },
  {
   "cell_type": "code",
   "execution_count": 2,
   "metadata": {},
   "outputs": [
    {
     "data": {
      "text/html": [
       "<div>\n",
       "<style scoped>\n",
       "    .dataframe tbody tr th:only-of-type {\n",
       "        vertical-align: middle;\n",
       "    }\n",
       "\n",
       "    .dataframe tbody tr th {\n",
       "        vertical-align: top;\n",
       "    }\n",
       "\n",
       "    .dataframe thead th {\n",
       "        text-align: right;\n",
       "    }\n",
       "</style>\n",
       "<table border=\"1\" class=\"dataframe\">\n",
       "  <thead>\n",
       "    <tr style=\"text-align: right;\">\n",
       "      <th></th>\n",
       "      <th>Number</th>\n",
       "      <th>City</th>\n",
       "      <th>Gender</th>\n",
       "      <th>Age</th>\n",
       "      <th>Income</th>\n",
       "      <th>Illness</th>\n",
       "    </tr>\n",
       "  </thead>\n",
       "  <tbody>\n",
       "    <tr>\n",
       "      <th>0</th>\n",
       "      <td>1</td>\n",
       "      <td>Dallas</td>\n",
       "      <td>Male</td>\n",
       "      <td>41</td>\n",
       "      <td>40367.0</td>\n",
       "      <td>No</td>\n",
       "    </tr>\n",
       "    <tr>\n",
       "      <th>1</th>\n",
       "      <td>2</td>\n",
       "      <td>Dallas</td>\n",
       "      <td>Male</td>\n",
       "      <td>54</td>\n",
       "      <td>45084.0</td>\n",
       "      <td>No</td>\n",
       "    </tr>\n",
       "    <tr>\n",
       "      <th>2</th>\n",
       "      <td>3</td>\n",
       "      <td>Dallas</td>\n",
       "      <td>Male</td>\n",
       "      <td>42</td>\n",
       "      <td>52483.0</td>\n",
       "      <td>No</td>\n",
       "    </tr>\n",
       "    <tr>\n",
       "      <th>3</th>\n",
       "      <td>4</td>\n",
       "      <td>Dallas</td>\n",
       "      <td>Male</td>\n",
       "      <td>40</td>\n",
       "      <td>40941.0</td>\n",
       "      <td>No</td>\n",
       "    </tr>\n",
       "    <tr>\n",
       "      <th>4</th>\n",
       "      <td>5</td>\n",
       "      <td>Dallas</td>\n",
       "      <td>Male</td>\n",
       "      <td>46</td>\n",
       "      <td>50289.0</td>\n",
       "      <td>No</td>\n",
       "    </tr>\n",
       "  </tbody>\n",
       "</table>\n",
       "</div>"
      ],
      "text/plain": [
       "   Number    City Gender  Age   Income Illness\n",
       "0       1  Dallas   Male   41  40367.0      No\n",
       "1       2  Dallas   Male   54  45084.0      No\n",
       "2       3  Dallas   Male   42  52483.0      No\n",
       "3       4  Dallas   Male   40  40941.0      No\n",
       "4       5  Dallas   Male   46  50289.0      No"
      ]
     },
     "execution_count": 2,
     "metadata": {},
     "output_type": "execute_result"
    }
   ],
   "source": [
    "#Reading the dataset\n",
    "dataset = pd.read_csv(\"dataset/toy_dataset.csv\")\n",
    "dataset.head()"
   ]
  },
  {
   "cell_type": "code",
   "execution_count": 3,
   "metadata": {},
   "outputs": [],
   "source": [
    "#Dropping the Number column\n",
    "dataset = dataset.drop(['Number'], axis=1)"
   ]
  },
  {
   "cell_type": "code",
   "execution_count": 4,
   "metadata": {},
   "outputs": [],
   "source": [
    "#Using custom label encoding to convert the categorical data to numerical data\n",
    "from mlmodule.preprocessing import LabelEncoder\n",
    "\n",
    "#City column\n",
    "city_le = LabelEncoder()\n",
    "dataset['City'] = city_le.fit_transform(dataset['City'])\n",
    "\n",
    "#Gender column\n",
    "gender_le = LabelEncoder()\n",
    "dataset['Gender'] = gender_le.fit_transform(dataset['Gender'])"
   ]
  },
  {
   "cell_type": "code",
   "execution_count": 5,
   "metadata": {},
   "outputs": [
    {
     "data": {
      "text/html": [
       "<div>\n",
       "<style scoped>\n",
       "    .dataframe tbody tr th:only-of-type {\n",
       "        vertical-align: middle;\n",
       "    }\n",
       "\n",
       "    .dataframe tbody tr th {\n",
       "        vertical-align: top;\n",
       "    }\n",
       "\n",
       "    .dataframe thead th {\n",
       "        text-align: right;\n",
       "    }\n",
       "</style>\n",
       "<table border=\"1\" class=\"dataframe\">\n",
       "  <thead>\n",
       "    <tr style=\"text-align: right;\">\n",
       "      <th></th>\n",
       "      <th>City</th>\n",
       "      <th>Gender</th>\n",
       "      <th>Age</th>\n",
       "      <th>Income</th>\n",
       "      <th>Illness</th>\n",
       "    </tr>\n",
       "  </thead>\n",
       "  <tbody>\n",
       "    <tr>\n",
       "      <th>0</th>\n",
       "      <td>2</td>\n",
       "      <td>1</td>\n",
       "      <td>41</td>\n",
       "      <td>40367.0</td>\n",
       "      <td>No</td>\n",
       "    </tr>\n",
       "    <tr>\n",
       "      <th>1</th>\n",
       "      <td>2</td>\n",
       "      <td>1</td>\n",
       "      <td>54</td>\n",
       "      <td>45084.0</td>\n",
       "      <td>No</td>\n",
       "    </tr>\n",
       "    <tr>\n",
       "      <th>2</th>\n",
       "      <td>2</td>\n",
       "      <td>1</td>\n",
       "      <td>42</td>\n",
       "      <td>52483.0</td>\n",
       "      <td>No</td>\n",
       "    </tr>\n",
       "    <tr>\n",
       "      <th>3</th>\n",
       "      <td>2</td>\n",
       "      <td>1</td>\n",
       "      <td>40</td>\n",
       "      <td>40941.0</td>\n",
       "      <td>No</td>\n",
       "    </tr>\n",
       "    <tr>\n",
       "      <th>4</th>\n",
       "      <td>2</td>\n",
       "      <td>1</td>\n",
       "      <td>46</td>\n",
       "      <td>50289.0</td>\n",
       "      <td>No</td>\n",
       "    </tr>\n",
       "  </tbody>\n",
       "</table>\n",
       "</div>"
      ],
      "text/plain": [
       "   City  Gender  Age   Income Illness\n",
       "0     2       1   41  40367.0      No\n",
       "1     2       1   54  45084.0      No\n",
       "2     2       1   42  52483.0      No\n",
       "3     2       1   40  40941.0      No\n",
       "4     2       1   46  50289.0      No"
      ]
     },
     "execution_count": 5,
     "metadata": {},
     "output_type": "execute_result"
    }
   ],
   "source": [
    "dataset.head()"
   ]
  },
  {
   "cell_type": "code",
   "execution_count": 6,
   "metadata": {},
   "outputs": [],
   "source": [
    "#Scaling the data\n",
    "from mlmodule.preprocessing import StandardScaler\n",
    "numerical_columns = ['City', 'Gender', 'Age', 'Income']\n",
    "\n",
    "scaler = StandardScaler()\n",
    "dataset[numerical_columns] = scaler.fit_transform(dataset[numerical_columns])"
   ]
  },
  {
   "cell_type": "code",
   "execution_count": 7,
   "metadata": {},
   "outputs": [],
   "source": [
    "#Converting the illness column to 0 for No and 1 for Yes\n",
    "dataset['Illness'] = dataset['Illness'].map({'No': 0, 'Yes': 1})"
   ]
  },
  {
   "cell_type": "code",
   "execution_count": 8,
   "metadata": {},
   "outputs": [],
   "source": [
    "dataset = dataset.sort_values(by='Illness')"
   ]
  },
  {
   "cell_type": "code",
   "execution_count": 9,
   "metadata": {},
   "outputs": [
    {
     "data": {
      "text/html": [
       "<div>\n",
       "<style scoped>\n",
       "    .dataframe tbody tr th:only-of-type {\n",
       "        vertical-align: middle;\n",
       "    }\n",
       "\n",
       "    .dataframe tbody tr th {\n",
       "        vertical-align: top;\n",
       "    }\n",
       "\n",
       "    .dataframe thead th {\n",
       "        text-align: right;\n",
       "    }\n",
       "</style>\n",
       "<table border=\"1\" class=\"dataframe\">\n",
       "  <thead>\n",
       "    <tr style=\"text-align: right;\">\n",
       "      <th></th>\n",
       "      <th>City</th>\n",
       "      <th>Gender</th>\n",
       "      <th>Age</th>\n",
       "      <th>Income</th>\n",
       "      <th>Illness</th>\n",
       "    </tr>\n",
       "  </thead>\n",
       "  <tbody>\n",
       "    <tr>\n",
       "      <th>22</th>\n",
       "      <td>-0.871607</td>\n",
       "      <td>-1.125105</td>\n",
       "      <td>-1.032642</td>\n",
       "      <td>-2.731228</td>\n",
       "      <td>0</td>\n",
       "    </tr>\n",
       "    <tr>\n",
       "      <th>24</th>\n",
       "      <td>-0.871607</td>\n",
       "      <td>0.888806</td>\n",
       "      <td>1.127661</td>\n",
       "      <td>-1.443123</td>\n",
       "      <td>0</td>\n",
       "    </tr>\n",
       "    <tr>\n",
       "      <th>25</th>\n",
       "      <td>-0.871607</td>\n",
       "      <td>0.888806</td>\n",
       "      <td>1.646134</td>\n",
       "      <td>-2.604454</td>\n",
       "      <td>0</td>\n",
       "    </tr>\n",
       "    <tr>\n",
       "      <th>26</th>\n",
       "      <td>-0.871607</td>\n",
       "      <td>0.888806</td>\n",
       "      <td>1.127661</td>\n",
       "      <td>-1.357807</td>\n",
       "      <td>0</td>\n",
       "    </tr>\n",
       "    <tr>\n",
       "      <th>27</th>\n",
       "      <td>-0.871607</td>\n",
       "      <td>0.888806</td>\n",
       "      <td>-0.082109</td>\n",
       "      <td>-1.182452</td>\n",
       "      <td>0</td>\n",
       "    </tr>\n",
       "  </tbody>\n",
       "</table>\n",
       "</div>"
      ],
      "text/plain": [
       "        City    Gender       Age    Income  Illness\n",
       "22 -0.871607 -1.125105 -1.032642 -2.731228        0\n",
       "24 -0.871607  0.888806  1.127661 -1.443123        0\n",
       "25 -0.871607  0.888806  1.646134 -2.604454        0\n",
       "26 -0.871607  0.888806  1.127661 -1.357807        0\n",
       "27 -0.871607  0.888806 -0.082109 -1.182452        0"
      ]
     },
     "execution_count": 9,
     "metadata": {},
     "output_type": "execute_result"
    }
   ],
   "source": [
    "#Dataset\n",
    "dataset.head()"
   ]
  },
  {
   "cell_type": "code",
   "execution_count": 10,
   "metadata": {},
   "outputs": [],
   "source": [
    "dataset = dataset.drop_duplicates()"
   ]
  },
  {
   "cell_type": "code",
   "execution_count": 11,
   "metadata": {},
   "outputs": [],
   "source": [
    "dataset = dataset.iloc[10000:]\n",
    "\n",
    "#Sorting the dataset by index\n",
    "dataset = dataset.sort_index()"
   ]
  },
  {
   "cell_type": "code",
   "execution_count": 12,
   "metadata": {},
   "outputs": [],
   "source": [
    "#Train test split\n",
    "margin = int(0.8 * dataset.shape[0])\n",
    "X_train, X_test, y_train, y_test = dataset.iloc[:margin, :-1], dataset.iloc[margin:, :-1], dataset.iloc[:margin, -1], dataset.iloc[margin:, -1]"
   ]
  },
  {
   "cell_type": "code",
   "execution_count": 13,
   "metadata": {},
   "outputs": [
    {
     "name": "stdout",
     "output_type": "stream",
     "text": [
      "Epoch 1/50, Loss: 0.3061\n",
      "Epoch 2/50, Loss: 0.2964\n",
      "Epoch 3/50, Loss: 0.2961\n",
      "Epoch 4/50, Loss: 0.2960\n",
      "Epoch 5/50, Loss: 0.2957\n",
      "Epoch 6/50, Loss: 0.2956\n",
      "Epoch 7/50, Loss: 0.2956\n",
      "Epoch 8/50, Loss: 0.2954\n",
      "Epoch 9/50, Loss: 0.2953\n",
      "Epoch 10/50, Loss: 0.2953\n",
      "Epoch 11/50, Loss: 0.2952\n",
      "Epoch 12/50, Loss: 0.2952\n",
      "Epoch 13/50, Loss: 0.2952\n",
      "Epoch 14/50, Loss: 0.2952\n",
      "Epoch 15/50, Loss: 0.2951\n",
      "Epoch 16/50, Loss: 0.2952\n",
      "Epoch 17/50, Loss: 0.2952\n",
      "Epoch 18/50, Loss: 0.2951\n",
      "Epoch 19/50, Loss: 0.2950\n",
      "Epoch 20/50, Loss: 0.2951\n",
      "Epoch 21/50, Loss: 0.2950\n",
      "Epoch 22/50, Loss: 0.2950\n",
      "Epoch 23/50, Loss: 0.2950\n",
      "Epoch 24/50, Loss: 0.2949\n",
      "Epoch 25/50, Loss: 0.2950\n",
      "Epoch 26/50, Loss: 0.2948\n",
      "Epoch 27/50, Loss: 0.2949\n",
      "Epoch 28/50, Loss: 0.2949\n",
      "Epoch 29/50, Loss: 0.2949\n",
      "Epoch 30/50, Loss: 0.2949\n",
      "Epoch 31/50, Loss: 0.2948\n",
      "Epoch 32/50, Loss: 0.2949\n",
      "Epoch 33/50, Loss: 0.2949\n",
      "Epoch 34/50, Loss: 0.2948\n",
      "Epoch 35/50, Loss: 0.2948\n",
      "Epoch 36/50, Loss: 0.2948\n",
      "Epoch 37/50, Loss: 0.2948\n",
      "Epoch 38/50, Loss: 0.2947\n",
      "Epoch 39/50, Loss: 0.2948\n",
      "Epoch 40/50, Loss: 0.2948\n",
      "Epoch 41/50, Loss: 0.2947\n",
      "Epoch 42/50, Loss: 0.2947\n",
      "Epoch 43/50, Loss: 0.2947\n",
      "Epoch 44/50, Loss: 0.2947\n",
      "Epoch 45/50, Loss: 0.2947\n",
      "Epoch 46/50, Loss: 0.2947\n",
      "Epoch 47/50, Loss: 0.2946\n",
      "Epoch 48/50, Loss: 0.2947\n",
      "Epoch 49/50, Loss: 0.2946\n",
      "Epoch 50/50, Loss: 0.2946\n"
     ]
    }
   ],
   "source": [
    "#Creating neural network model\n",
    "from mlmodule.layers import Dense\n",
    "from mlmodule.models import Sequential\n",
    "from mlmodule.activations import *\n",
    "from mlmodule.optimizers import Adam\n",
    "from mlmodule.losses import *\n",
    "\n",
    "model = Sequential()\n",
    "model.add(Dense(64, activation = relu))\n",
    "model.add(Dense(32, activation = relu))\n",
    "model.add(Dense(16, activation = relu))\n",
    "model.add(Dense(1, activation = sigmoid))\n",
    "\n",
    "#Compiling the model\n",
    "model.compile(optimizer=Adam(learning_rate=0.001), loss=binary_crossentropy)\n",
    "\n",
    "#Training the model\n",
    "model.fit(X_train, y_train, epochs=50, batch_size=64)\n",
    "\n",
    "#Predicting the output\n",
    "predictions = model.predict(X_test)"
   ]
  },
  {
   "cell_type": "code",
   "execution_count": 14,
   "metadata": {},
   "outputs": [],
   "source": [
    "binary_predictions = (predictions > 0.5).astype(int)"
   ]
  },
  {
   "cell_type": "code",
   "execution_count": 15,
   "metadata": {},
   "outputs": [],
   "source": [
    "#Evaluating the model\n",
    "y_test = y_test.values"
   ]
  },
  {
   "cell_type": "code",
   "execution_count": 16,
   "metadata": {},
   "outputs": [
    {
     "name": "stdout",
     "output_type": "stream",
     "text": [
      "Accuracy: 91.54196720134927\n"
     ]
    }
   ],
   "source": [
    "#Calculating the accuracy\n",
    "accuracy = np.mean(binary_predictions == y_test)\n",
    "\n",
    "print(f\"Accuracy: {accuracy*100}\")"
   ]
  }
 ],
 "metadata": {
  "kernelspec": {
   "display_name": "NeuralNetworkFromScratch",
   "language": "python",
   "name": "python3"
  },
  "language_info": {
   "codemirror_mode": {
    "name": "ipython",
    "version": 3
   },
   "file_extension": ".py",
   "mimetype": "text/x-python",
   "name": "python",
   "nbconvert_exporter": "python",
   "pygments_lexer": "ipython3",
   "version": "3.12.4"
  }
 },
 "nbformat": 4,
 "nbformat_minor": 2
}
