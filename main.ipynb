{
 "cells": [
  {
   "cell_type": "code",
   "execution_count": 1,
   "metadata": {},
   "outputs": [],
   "source": [
    "#Importing data handling libraries\n",
    "import pandas as pd\n",
    "import numpy as np"
   ]
  },
  {
   "cell_type": "code",
   "execution_count": null,
   "metadata": {},
   "outputs": [],
   "source": [
    "#Reading the dataset\n",
    "dataset = pd.read_csv(\"dataset/toy_dataset.csv\")\n",
    "dataset.head()"
   ]
  },
  {
   "cell_type": "code",
   "execution_count": 3,
   "metadata": {},
   "outputs": [],
   "source": [
    "#Dropping the Number column\n",
    "dataset = dataset.drop(['Number'], axis=1)"
   ]
  },
  {
   "cell_type": "code",
   "execution_count": 4,
   "metadata": {},
   "outputs": [],
   "source": [
    "#Using custom label encoding to convert the categorical data to numerical data\n",
    "from mlmodule.preprocessing import LabelEncoder\n",
    "\n",
    "#City column\n",
    "city_le = LabelEncoder()\n",
    "dataset['City'] = city_le.fit_transform(dataset['City'])\n",
    "\n",
    "#Gender column\n",
    "gender_le = LabelEncoder()\n",
    "dataset['Gender'] = gender_le.fit_transform(dataset['Gender'])"
   ]
  },
  {
   "cell_type": "code",
   "execution_count": null,
   "metadata": {},
   "outputs": [],
   "source": [
    "dataset.head()"
   ]
  },
  {
   "cell_type": "code",
   "execution_count": 6,
   "metadata": {},
   "outputs": [],
   "source": [
    "#Scaling the data\n",
    "from mlmodule.preprocessing import StandardScaler\n",
    "\n",
    "numerical_columns = ['City', 'Gender', 'Age', 'Income']\n",
    "\n",
    "scaler = StandardScaler()\n",
    "dataset[numerical_columns] = scaler.fit_transform(dataset[numerical_columns])"
   ]
  },
  {
   "cell_type": "code",
   "execution_count": 7,
   "metadata": {},
   "outputs": [],
   "source": [
    "#Converting the illness column to 0 for No and 1 for Yes\n",
    "dataset['Illness'] = dataset['Illness'].map({'No': 0, 'Yes': 1})"
   ]
  },
  {
   "cell_type": "code",
   "execution_count": null,
   "metadata": {},
   "outputs": [],
   "source": [
    "#Dataset\n",
    "dataset.head()"
   ]
  },
  {
   "cell_type": "code",
   "execution_count": null,
   "metadata": {},
   "outputs": [],
   "source": [
    "#Creating neural network model\n",
    "from mlmodule.layers import Dense\n",
    "from mlmodule.models import Sequential\n",
    "from mlmodule.activation import *\n",
    "from mlmodule.optimizers import Adam\n",
    "from mlmodule.losses import mean_squared_error\n",
    "\n",
    "model = Sequential()\n",
    "model.add(Dense(4, activation = relu))\n",
    "model.add(Dense(4, activation = relu))\n",
    "model.add(Dense(1, activation=sigmoid))\n",
    "\n",
    "#Compiling the model\n",
    "model.compile(optimizer=Adam(learning_rate=0.01), loss=mean_squared_error)\n",
    "\n",
    "#Training the model\n",
    "model.fit(dataset[numerical_columns], dataset['Illness'], epochs=10)\n",
    "\n",
    "#Predicting the output\n",
    "predictions = model.predict(dataset[numerical_columns].values)\n",
    "\n",
    "print(predictions.shape, dataset['Illness'].shape)\n",
    "\n",
    "with open(\"predictions.txt\", \"w\") as f:\n",
    "    for i in predictions:\n",
    "        f.write(str(i[0]) + \"\\n\")\n",
    "\n",
    "#Calculating the accuracy\n",
    "accuracy = np.mean(predictions == dataset['Illness'].values)\n",
    "print(\"Accuracy: \", accuracy)"
   ]
  },
  {
   "cell_type": "code",
   "execution_count": null,
   "metadata": {},
   "outputs": [],
   "source": [
    "predictions"
   ]
  }
 ],
 "metadata": {
  "kernelspec": {
   "display_name": "NeuralNetworkFromScratch",
   "language": "python",
   "name": "python3"
  },
  "language_info": {
   "codemirror_mode": {
    "name": "ipython",
    "version": 3
   },
   "file_extension": ".py",
   "mimetype": "text/x-python",
   "name": "python",
   "nbconvert_exporter": "python",
   "pygments_lexer": "ipython3",
   "version": "3.12.4"
  }
 },
 "nbformat": 4,
 "nbformat_minor": 2
}
